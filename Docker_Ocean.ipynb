{
  "nbformat": 4,
  "nbformat_minor": 0,
  "metadata": {
    "colab": {
      "provenance": [],
      "toc_visible": true,
      "include_colab_link": true
    },
    "kernelspec": {
      "name": "python3",
      "display_name": "Python 3"
    },
    "language_info": {
      "name": "python"
    }
  },
  "cells": [
    {
      "cell_type": "markdown",
      "metadata": {
        "id": "view-in-github",
        "colab_type": "text"
      },
      "source": [
        "<a href=\"https://colab.research.google.com/github/jardel-costa/The_Beginning_Software_Programmer/blob/main/Docker_Ocean.ipynb\" target=\"_parent\"><img src=\"https://colab.research.google.com/assets/colab-badge.svg\" alt=\"Open In Colab\"/></a>"
      ]
    },
    {
      "cell_type": "markdown",
      "source": [
        "#Introdução ao Docker#\n",
        "\n",
        "\n"
      ],
      "metadata": {
        "id": "ybnIxBz7FYmt"
      }
    },
    {
      "cell_type": "code",
      "source": [],
      "metadata": {
        "id": "K0kTZtX_r2RF"
      },
      "execution_count": null,
      "outputs": []
    },
    {
      "cell_type": "code",
      "source": [],
      "metadata": {
        "id": "LrvYmCbur2mj"
      },
      "execution_count": null,
      "outputs": []
    },
    {
      "cell_type": "markdown",
      "source": [
        "#Instalação do Docker#\n",
        ">**Download e instalação do Docker Desktop para o Windows**\n",
        "\n",
        "* [Windows](https://hub.docker.com/editions/community/docker-ce-desktop-windows)\n",
        "\n",
        ">**Download e instalação do Docker Desktop para o Mac**\n",
        "\n",
        "* [Mac](https://hub.docker.com/editions/community/docker-ce-desktop-mac)\n",
        "\n",
        ">**Cliente Docker via Browser**\n",
        "\n",
        "* [Play With Docker](https://www.docker.com/101-tutorial)"
      ],
      "metadata": {
        "id": "LBmhawySJK8x"
      }
    },
    {
      "cell_type": "markdown",
      "source": [
        "# Nova secção"
      ],
      "metadata": {
        "id": "SuL0ISEwRKkw"
      }
    },
    {
      "cell_type": "markdown",
      "source": [],
      "metadata": {
        "id": "W7M0MizHti4M"
      }
    },
    {
      "cell_type": "markdown",
      "source": [
        "**Usando o docker**\n",
        "\n",
        "* docker run hello-world\n",
        "\n",
        "**Listar imagens Docker**\n",
        "* sudo docker images\n",
        "\n",
        "**Mais opções sobre o comando**\n",
        "* sudo docker images --help\n",
        "\n",
        "**Baixar uma imagem**\n",
        "* docker pull [nome da imagem]\n",
        "\n",
        "**Criando o container a partir da imagem**\n",
        "* docker run [nome da imagem]\n",
        "\n",
        "**Inspecionando a Imagem**\n",
        "* docker image inspect [nome da imagem]\n",
        "\n",
        "**Exibindo containers criados**\n",
        "* docker ps [nome da imagem]\n",
        "\n",
        "**Exibindo containers ativos**\n",
        "* docker ps -a [nome da imagem]\n",
        "\n",
        "**Inicia o conatiner em modo interativo**\n",
        "* docker run -it [nome da imagem]\n",
        "\n",
        "**Reiniciar um processo parado**\n",
        "* docker start -i CONTAINER_ID\n",
        "\n",
        "**Enviando uma imagem para o DockerHub**\n",
        "\n",
        "* ***Fazendo login na conta do DockerHub***\n",
        "\n",
        ">* docker login\n",
        "\n",
        "* ***Criando a imagem no formato para o upload***\n",
        "\n",
        ">* docker commit container_id nomedousuario/repositório\n",
        "\n",
        ">* docker commit container_id nomedousuario/repositório:tag\n",
        "\n",
        "\n",
        "* ***Fazendo upload da imagem para o DockerHub***\n",
        "\n",
        ">* docker push nomedousuario/repositório\n",
        "\n",
        "* ***Building Dockerfile ***\n",
        ">*docker build . -t images/ubuntuapache:1.0\n",
        "\n",
        "* *** inicar o containner e configurar as portas do servidor ***\n",
        "\n",
        ">* docker run -p 8081:80 -it images/ubuntuapache:1.0 /bin/bash\n",
        "\n",
        "* ***Iniciando servidor apache ***\n",
        "\n",
        ">* /etc/init.d/apache2 start\n",
        "\n",
        "\n"
      ],
      "metadata": {
        "id": "iQ2F_-xW3du7"
      }
    },
    {
      "cell_type": "code",
      "source": [
        "from google.colab import drive\n",
        "drive.mount('/content/drive')"
      ],
      "metadata": {
        "id": "nfiHizsanB6t"
      },
      "execution_count": null,
      "outputs": []
    },
    {
      "cell_type": "code",
      "source": [],
      "metadata": {
        "id": "b14mgeIMSHXr"
      },
      "execution_count": null,
      "outputs": []
    }
  ]
}