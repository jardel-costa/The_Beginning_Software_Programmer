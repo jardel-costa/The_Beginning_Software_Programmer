{
  "nbformat": 4,
  "nbformat_minor": 0,
  "metadata": {
    "colab": {
      "provenance": []
    },
    "kernelspec": {
      "name": "python3",
      "display_name": "Python 3"
    },
    "language_info": {
      "name": "python"
    }
  },
  "cells": [
    {
      "cell_type": "markdown",
      "source": [
        "## **Instruções do projeto:**\n",
        "\n",
        "Precisamos imprimir um número para cada andar de um hotel de 20 andares.\n",
        "\n",
        "Porém, o dono do hotel é supersticioso e optou por não ter um 13ro andar.\n",
        "\n",
        "Escreva um código que imprima todos os números exceto o número 13.\n",
        "\n",
        "Escreva mais um código que resolva o mesmo problema, mas dessa vez usando o laço de repetição 'while'.\n",
        "\n",
        "Como desafio, imprima eles em ordem decrescente (20, 19, 18...)\n",
        "\n",
        "Trabalhe esse código em seu IDE, suba ele para sua conta no GitHub e compartilhe o link desse projeto no campo ao lado para que outros desenvolvedores possam analisá-lo."
      ],
      "metadata": {
        "id": "iFYK1NHVP-H7"
      }
    },
    {
      "cell_type": "markdown",
      "source": [
        "# Solução usando FOR"
      ],
      "metadata": {
        "id": "1zoAuwojdnpM"
      }
    },
    {
      "cell_type": "code",
      "execution_count": 11,
      "metadata": {
        "id": "VzsCoxZsYT7v",
        "colab": {
          "base_uri": "https://localhost:8080/"
        },
        "outputId": "a15ee51e-69d5-4b67-a050-ffb659f44013"
      },
      "outputs": [
        {
          "output_type": "stream",
          "name": "stdout",
          "text": [
            "ANDAR 20\n",
            "ANDAR 19\n",
            "ANDAR 18\n",
            "ANDAR 17\n",
            "ANDAR 16\n",
            "ANDAR 15\n",
            "ANDAR 14\n",
            "ANDAR 12\n",
            "ANDAR 11\n",
            "ANDAR 10\n",
            "ANDAR 9\n",
            "ANDAR 8\n",
            "ANDAR 7\n",
            "ANDAR 6\n",
            "ANDAR 5\n",
            "ANDAR 4\n",
            "ANDAR 3\n",
            "ANDAR 2\n",
            "ANDAR 1\n"
          ]
        }
      ],
      "source": [
        "andar = 20\n",
        "\n",
        "for i in range (20, 0, -1):\n",
        "  if (andar != 13):\n",
        "    print(\"ANDAR\", andar)\n",
        "    andar = andar - 1\n",
        "  else:\n",
        "    andar = andar - 1"
      ]
    },
    {
      "cell_type": "markdown",
      "source": [
        "# Solução usando While"
      ],
      "metadata": {
        "id": "NxqRlei_dtO2"
      }
    },
    {
      "cell_type": "code",
      "source": [
        "andar = 20\n",
        "while (andar > 0):\n",
        "  if (andar != 13):\n",
        "    print(\"ANDAR\", andar)\n",
        "    andar = andar - 1\n",
        "  else:\n",
        "    andar = andar - 1"
      ],
      "metadata": {
        "colab": {
          "base_uri": "https://localhost:8080/"
        },
        "id": "dszUjegOdwq0",
        "outputId": "3429d4f8-426b-4211-84b1-4aad15222b38"
      },
      "execution_count": 13,
      "outputs": [
        {
          "output_type": "stream",
          "name": "stdout",
          "text": [
            "ANDAR 20\n",
            "ANDAR 19\n",
            "ANDAR 18\n",
            "ANDAR 17\n",
            "ANDAR 16\n",
            "ANDAR 15\n",
            "ANDAR 14\n",
            "ANDAR 12\n",
            "ANDAR 11\n",
            "ANDAR 10\n",
            "ANDAR 9\n",
            "ANDAR 8\n",
            "ANDAR 7\n",
            "ANDAR 6\n",
            "ANDAR 5\n",
            "ANDAR 4\n",
            "ANDAR 3\n",
            "ANDAR 2\n",
            "ANDAR 1\n"
          ]
        }
      ]
    }
  ]
}