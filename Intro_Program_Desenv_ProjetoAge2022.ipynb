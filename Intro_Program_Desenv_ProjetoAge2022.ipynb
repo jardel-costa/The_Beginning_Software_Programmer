{
  "nbformat": 4,
  "nbformat_minor": 0,
  "metadata": {
    "colab": {
      "provenance": []
    },
    "kernelspec": {
      "name": "python3",
      "display_name": "Python 3"
    },
    "language_info": {
      "name": "python"
    }
  },
  "cells": [
    {
      "cell_type": "markdown",
      "source": [
        "## Instruções do projeto\n",
        "Desenvolva um programa que recebe do usuário nome completo e ano de nascimento que seja entre 1922 e 2021.\n",
        "\n",
        "A partir dessas informações, o sistema mostrará o nome do usuário e a idade que completou, ou completará, no ano atual (2022).\n",
        "\n",
        "Caso o usuário não digite um número ou apareça um inválido no campo do ano, o sistema informará o erro e continuará perguntando até que um valor correto seja preenchido.\n",
        "\n",
        "\n"
      ],
      "metadata": {
        "id": "E8TYHz4LlsLu"
      }
    },
    {
      "cell_type": "code",
      "source": [
        "def parabens (nasc, anoAtual):\n",
        "    if(nasc > anoAtual):\n",
        "      return 0\n",
        "    else:\n",
        "      return anoAtual - nasc\n",
        "\n",
        "age = parabens (1979, 2024)\n",
        "print(age)"
      ],
      "metadata": {
        "colab": {
          "base_uri": "https://localhost:8080/"
        },
        "id": "4DLNKyLI0vMa",
        "outputId": "04a2f21e-a8fb-4901-85a2-70e7e42d84e3"
      },
      "execution_count": 4,
      "outputs": [
        {
          "output_type": "stream",
          "name": "stdout",
          "text": [
            "45\n"
          ]
        }
      ]
    },
    {
      "cell_type": "code",
      "source": [
        "from IPython.display import clear_output\n",
        "\n",
        "def parabens (nasc, anoAtual):\n",
        "    if(nasc > anoAtual):\n",
        "      return 0\n",
        "    else:\n",
        "      return anoAtual - nasc\n",
        "\n",
        "#Teste função parabens\n",
        "#age = parabens (1979, 2024)\n",
        "#print(age)\n",
        "\n",
        "anoCorreto = True\n",
        "\n",
        "while (anoCorreto == True):\n",
        "  print(\"Insira seu nome completo:\")\n",
        "  nome = str(input())\n",
        "  print(\"\")\n",
        "  try:\n",
        "    print(\"Insira o ano do seu nascimento:\")\n",
        "    nasc = float(input())\n",
        "    print(\"\")\n",
        "    if (nasc> 1922) and (nasc < 2022):\n",
        "      age = parabens (nasc, 2022)\n",
        "      print(nome, \"em 2022, você tinha\", age, \"anos de idade.\")\n",
        "      anoCorreto = True\n",
        "    else :\n",
        "      print(\"Por favor, verifique o ano digitado.\")\n",
        "    print(\"\")\n",
        "    print(\"Deseja continuar?\")\n",
        "    print(\"\")\n",
        "    print(\"Escolha uma das opções abaixo\")\n",
        "    print(\"\")\n",
        "    print(\"1.SIM\")\n",
        "    print(\"2.NÃO\")\n",
        "    print(\"\")\n",
        "    loop = float(input())\n",
        "    if (loop == 1):\n",
        "      anoCorreto = True\n",
        "      clear_output()\n",
        "    else:\n",
        "      clear_output()\n",
        "      print(\"\")\n",
        "      print(\"Obrigado por usar nossa ferramenta de calculo de idade.\")\n",
        "      print(\"\")\n",
        "      anoCorreto = False\n",
        "  except:\n",
        "      anoCorreto = True\n",
        "      clear_output()\n",
        "      print(\"Inserção de Dados inválidos!\")\n",
        "      print(\"Por favor, verifique e insira os dados novamente.\")\n",
        "      print(\"\")"
      ],
      "metadata": {
        "colab": {
          "base_uri": "https://localhost:8080/"
        },
        "id": "GQropUodl6Eg",
        "outputId": "9819deab-846b-463e-fdf7-d9fd1f3daf8a"
      },
      "execution_count": 32,
      "outputs": [
        {
          "output_type": "stream",
          "name": "stdout",
          "text": [
            "\n",
            "Obrigado por usar nossa ferramenta de calculo de idade.\n",
            "\n"
          ]
        }
      ]
    }
  ]
}