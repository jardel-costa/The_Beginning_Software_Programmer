{
  "nbformat": 4,
  "nbformat_minor": 0,
  "metadata": {
    "colab": {
      "provenance": []
    },
    "kernelspec": {
      "name": "python3",
      "display_name": "Python 3"
    },
    "language_info": {
      "name": "python"
    }
  },
  "cells": [
    {
      "cell_type": "markdown",
      "source": [
        "# Instruções do projeto\n",
        "Faça uma função calculadora de dois números com três parâmetros:\n",
        "os dois primeiros serão os números da operação e o terceiro será a entrada que definirá a operação a ser executada. Considera a seguinte definição:\n",
        "1. Soma\n",
        "2. Subtração\n",
        "3. Multiplicação\n",
        "4. Divisão\n",
        "\n",
        "Caso seja inserido um número de operação que não exista, o resultado deverá ser 0."
      ],
      "metadata": {
        "id": "Y1gNioers9jd"
      }
    },
    {
      "cell_type": "code",
      "source": [
        "opera = \" \"\n",
        "num1 = 0\n",
        "num2 = 0\n",
        "resultado = 0\n",
        "\n",
        "num1 = float(input(\"Digite 1° numero: \"))\n",
        "print(\" \")\n",
        "num2 = float(input(\"Digite 2° numero: \"))\n",
        "print(\" \")\n",
        "print(\"Opções de Calculos:\")\n",
        "print(\" \")\n",
        "print(\"1. SOMA\")\n",
        "print(\"2. SUBTRAÇÃO\")\n",
        "print(\"3. MULTIPLICAÇÃO\")\n",
        "print(\"4. DIVISÃO\")\n",
        "print(\" \")\n",
        "opera = input(\"Digite agora o operação deseja: \")\n",
        "print(\" \")\n",
        "if (opera == \"1\"):\n",
        "  resultado = float(num1) + float(num2)\n",
        "  print(\"O resultado da adição do numero\", num1, \"com o numero \", num2, \"é: \", resultado, \".\")\n",
        "elif (opera == \"2\"):\n",
        "  resultado = float(num1) - float(num2)\n",
        "  print(\"O resultado da subtração do numero\", num1, \"pelo o numero \", num2, \"é: \", resultado, \".\")\n",
        "elif (opera == \"3\"):\n",
        "  resultado = float(num1) * float(num2)\n",
        "  print(\"O produto da multiplicação do numero\", num1, \"com o numero \", num2, \"é: \", resultado, \".\")\n",
        "elif (opera == \"4\"):\n",
        "  if(num2 == 0):\n",
        "    resultado=0\n",
        "    print(\"Divisão por Zero! Este tipo de operação não está definida! Resultado = \", resultado)\n",
        "  else:\n",
        "    resultado = float(num1) / float(num2)\n",
        "    print(\"O produto da divisão do numero\", num1, \"pelo o numero \", num2, \"é: \", resultado, \".\")\n",
        "else:\n",
        "  resultado= 0\n",
        "  print(\"Opção invalida! Resultado = \", resultado)"
      ],
      "metadata": {
        "colab": {
          "base_uri": "https://localhost:8080/"
        },
        "id": "iZhCdF-dtGCi",
        "outputId": "e9a156fe-bf23-4e9d-c228-8d725960573d"
      },
      "execution_count": 15,
      "outputs": [
        {
          "output_type": "stream",
          "name": "stdout",
          "text": [
            "Digite 1° numero: 1\n",
            " \n",
            "Digite 2° numero: 1\n",
            " \n",
            "Opções de Calculos:\n",
            " \n",
            "1. SOMA\n",
            "2. SUBTRAÇÃO\n",
            "3. MULTIPLICAÇÃO\n",
            "4. DIVISÃO\n",
            " \n",
            "Digite agora o operação deseja: 1\n",
            " \n",
            "O resultado da adição do numero 1.0 com o numero  1.0 é:  2.0 .\n"
          ]
        }
      ]
    }
  ]
}