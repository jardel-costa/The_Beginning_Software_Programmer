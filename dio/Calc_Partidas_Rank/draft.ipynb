{
 "cells": [
  {
   "cell_type": "markdown",
   "metadata": {},
   "source": [
    "E aí, galera, preparem os corações para a adrenalina! 🔥 Sejam bem-vindos ao circuito mundial, onde só os guerreiros de verdade sobrevivem! 💪\n",
    "\n",
    "Mas antes da gente mergulhar nessa batalha épica, me digam aí, qual o nome desse gladiador que vai botar pra quebrar hoje? ⚔️\n",
    "\n",
    "E aí, {jogador}, quantas vitórias e derrotas você carrega nas costas? ⚔️\n",
    "\n",
    "A torcida tá faminta por ação, bora mostrar pra que veio! 💥"
   ]
  },
  {
   "cell_type": "code",
   "execution_count": null,
   "metadata": {},
   "outputs": [],
   "source": [
    "def calRank (vitorias, derrotas):\n",
    "    resultado = vitorias - derrotas\n",
    "    return resultado\n",
    "\n",
    "nome=\"\"\n",
    "level=0\n",
    "nivel=\"\"\n",
    "\n",
    "nome=str(input(\"Valente Heroi, diga-me seu nome! Para que a glória de seus feitos seja cantada pelos bardos!:\"))\n",
    "print(f\"Seja bem-vindo ao reino de Aethelmere, Valente Caveleiro!\")\n",
    "print(\"\")\n",
    "level=int(input(\"Diga-me, Heroi, qual a sua quantidade de experiência em xp? É um novato em busca de glória, ou um veterano de mil batalhas?\"))\n",
    "\n",
    "if (level<1000):\n",
    "    nivel=\"Ferro\"\n",
    "elif (level>1001 and level<2000):\n",
    "    nivel=\"Bronze\"\n",
    "elif (level>2001 and level<5000):\n",
    "    nivel=\"Prata\"\n",
    "elif (level>5001 and level<7000):\n",
    "    nivel=\"Ouro\"\n",
    "elif (level>7001 and level<8000):\n",
    "    nivel=\"Platina\"\n",
    "elif (level>8001 and level<9000):\n",
    "    nivel=\"Ascendente\"\n",
    "elif (level>9001 and level<10000):\n",
    "    nivel=\"Imortal\"\n",
    "elif (level>10001):\n",
    "    nivel=\"Radiante\"\n",
    "else:\n",
    "    print(\"Sua inscrição não parece correta, nobre guerreiro! Verifique se declarou a informação corretamente, e tente novamente. A sorte esteja com você!\")\n",
    "\n",
    "print(f\"Um caminho se abre a diante, {nome}, o Heroi!\")\n",
    "print(\"\")\n",
    "print(f\"Com {level} quantidade de experiência, você se encontra no nível de {nivel}.\")\n",
    "print(\"\")\n",
    "print(\"A glória o espera, mas cuidado: os desafios são muitos!\")\n",
    "print(\"\")\n",
    "print(\"Que a sorte esteja com você, e que seus feitos sejam lembrados por todos!\")"
   ]
  },
  {
   "cell_type": "markdown",
   "metadata": {},
   "source": [
    "\"Olha só, galera! O {jogador}, com um saldo de {saldoVitorias} vitórias, tá escalando o ranking como um foguete! 🚀 Ele tá cravado na {nivel} posição no mundo! Eita, que nível é esse, hein?! Se liga na fera!\""
   ]
  }
 ],
 "metadata": {
  "language_info": {
   "name": "python"
  }
 },
 "nbformat": 4,
 "nbformat_minor": 2
}
