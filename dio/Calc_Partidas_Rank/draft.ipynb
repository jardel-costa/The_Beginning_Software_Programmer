{
 "cells": [
  {
   "cell_type": "code",
   "execution_count": 1,
   "metadata": {},
   "outputs": [
    {
     "name": "stdout",
     "output_type": "stream",
     "text": [
      "190\n"
     ]
    }
   ],
   "source": [
    "def calRank (vitorias, derrotas):\n",
    "    resultado = vitorias - derrotas\n",
    "    return resultado\n",
    "\n",
    "print(calRank(200, 10))\n",
    "\n"
   ]
  },
  {
   "cell_type": "code",
   "execution_count": 4,
   "metadata": {},
   "outputs": [],
   "source": [
    "nome = \" \"\n",
    "vitorias = 0\n",
    "derrotas = 0"
   ]
  },
  {
   "cell_type": "code",
   "execution_count": 3,
   "metadata": {},
   "outputs": [
    {
     "name": "stdout",
     "output_type": "stream",
     "text": [
      "E aí, galera, preparem os corações para a adrenalina!\n",
      " \n",
      "Sejam bem-vindos ao circuito mundial, onde só os guerreiros de verdade sobrevivem!\n",
      " \n",
      "Mas antes da gente mergulhar nessa batalha épica...\n",
      " \n"
     ]
    }
   ],
   "source": [
    "print(\"E aí, galera, preparem os corações para a adrenalina!\")\n",
    "print(\" \")\n",
    "print(\"Mas antes da gente mergulhar nessa batalha épica...\")\n",
    "print(\" \")\n",
    "\n"
   ]
  },
  {
   "cell_type": "code",
   "execution_count": 8,
   "metadata": {},
   "outputs": [
    {
     "name": "stdout",
     "output_type": "stream",
     "text": [
      "JARDEL, sejam bem-vindos ao circuito mundial, onde só os guerreiros de verdade sobrevivem!\n",
      "\n",
      "\n",
      "A torcida tá faminta por ação, bora mostrar pra que veio!\n"
     ]
    }
   ],
   "source": [
    "nome=str(input(\"Me diga aí, qual o nome desse gladiador que vai botar pra quebrar hoje?\"))\n",
    "print(f\"{nome}, sejam bem-vindos ao circuito mundial, onde só os guerreiros de verdade sobrevivem!\")\n",
    "print(\"\")\n",
    "derrotas=int(input(f\"E aí, {nome}, sei que a derrota faz parte do jogo, mas pra gente te acompanhar com a máxima energia, precisamos saber quantas batalhas você já perdeu! Conta pra gente, quantas vezes você teve que se reerguer e voltar mais forte?\"))\n",
    "print(\"\")\n",
    "vitorias=int(input(f\"Agora vamos falar de coisa boa, {nome}! Quantas vezes você já sentiu o gosto da vitória, a emoção de levar a taça pra casa? Conta pra gente, quantas vezes você já fez a torcida explodir de alegria?\"))\n",
    "print(\"A torcida tá faminta por ação, bora mostrar pra que veio!\")\n"
   ]
  },
  {
   "cell_type": "code",
   "execution_count": 11,
   "metadata": {},
   "outputs": [
    {
     "name": "stdout",
     "output_type": "stream",
     "text": [
      "90\n"
     ]
    }
   ],
   "source": [
    "rank = calRank(vitorias,derrotas)\n",
    "print(rank)"
   ]
  },
  {
   "cell_type": "code",
   "execution_count": 48,
   "metadata": {},
   "outputs": [],
   "source": [
    "rank = 191"
   ]
  },
  {
   "cell_type": "code",
   "execution_count": 49,
   "metadata": {},
   "outputs": [
    {
     "name": "stdout",
     "output_type": "stream",
     "text": [
      "Seu nível é: Imortal\n"
     ]
    }
   ],
   "source": [
    "if (rank<10):\n",
    "    nivel=\"Ferro\"\n",
    "elif (rank>=11 and rank<=20):\n",
    "    nivel=\"Bronze\"\n",
    "elif (rank>=21 and rank<=50):\n",
    "    nivel=\"Prata\"\n",
    "elif (rank>=51 and rank<=80):\n",
    "    nivel=\"Ouro\"\n",
    "elif (rank>=81 and rank<=90):\n",
    "    nivel=\"Diamante\"\n",
    "elif (rank>=91 and rank<=100):\n",
    "    nivel=\"Lendário\"\n",
    "elif (rank>101):\n",
    "    nivel=\"Imortal\"\n",
    "else:\n",
    "    print(f\"Eita, {nome}, parece que a inscrição deu um nó! 🤔 Confere aí se a informação tá certinha, e tenta de novo!\")\n",
    "\n",
    "print(\"Seu nível é:\", nivel)"
   ]
  },
  {
   "cell_type": "code",
   "execution_count": 50,
   "metadata": {},
   "outputs": [
    {
     "name": "stdout",
     "output_type": "stream",
     "text": [
      "Olha só, galera! O JARDEL, com um saldo de 191 vitórias, tá escalando o ranking como um foguete! \n",
      "Ele tá com a classificação Imortal no circuito mundial! Eita, que nível é esse, hein?! Se liga na fera!\n"
     ]
    }
   ],
   "source": [
    "if (rank>1 and rank<10):\n",
    "    print(f\"O {nome} tá começando a trilhar o caminho da glória! Com um saldo de {rank} vitórias, \")\n",
    "    print(\"ele já  mostrou  que  tem  fome  de  vencer  e  está  pronto  pra  deixar  sua  marca  nesse  circuito!  \")\n",
    "    print(\"A  gente  tá  de  olho  pra  ver  ele  escalar  esse  ranking  e  mostrar  o  seu  valor!\")\n",
    "elif(rank>=10):    \n",
    "    print(f\"Olha só, galera! O {nome}, com um saldo de {rank} vitórias, tá escalando o ranking como um foguete! \")\n",
    "    print(f\"Ele tá com a classificação {nivel} no circuito mundial! Eita, que nível é esse, hein?! Se liga na fera!\")       \n",
    "elif (rank == 0):\n",
    "    print(f\"O {nome} está pronto para escrever sua história! Com um saldo zerado, \")\n",
    "    print(\"ele chega cheio de energia e determinação pra começar a construir sua legenda no mundo dos games! \")\n",
    "    print(\"A torcida tá animada pra ver esse novo astro brilhar no céu do circuito!\")\n",
    "else:\n",
    "    rank = -(rank)\n",
    "    print(f\"Eita, {nome}, parece que você já passou por algumas batalhas duras! Com um saldo de {rank} derrotas,\")\n",
    "    print(\"você tem uma história rica de superação e aprendizado! Mas não se preocupe,\")\n",
    "    print(\"a gente tá aqui pra torcer por você e ver você se reerguer mais forte do que nunca!\")"
   ]
  }
 ],
 "metadata": {
  "kernelspec": {
   "display_name": "Python 3",
   "language": "python",
   "name": "python3"
  },
  "language_info": {
   "codemirror_mode": {
    "name": "ipython",
    "version": 3
   },
   "file_extension": ".py",
   "mimetype": "text/x-python",
   "name": "python",
   "nbconvert_exporter": "python",
   "pygments_lexer": "ipython3",
   "version": "3.11.8"
  }
 },
 "nbformat": 4,
 "nbformat_minor": 2
}
