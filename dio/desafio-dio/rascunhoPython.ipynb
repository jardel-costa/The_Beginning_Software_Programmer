{
 "cells": [
  {
   "cell_type": "code",
   "execution_count": 3,
   "metadata": {},
   "outputs": [
    {
     "name": "stdout",
     "output_type": "stream",
     "text": [
      "Seja bem-vindo ao reino de Aethelmere, Valente Caveleiro!\n",
      "\n",
      "Um caminho se abre a diante, JARDEL!\n",
      "\n",
      "Com 9999 de experiência, você se encontra no nível de Imortal.\n",
      "\n",
      "A glória o espera, mas cuidado: os desafios são muitos!\n",
      "\n",
      "Que a sorte esteja com você, e que seus feitos sejam lembrados por todos!\n"
     ]
    }
   ],
   "source": [
    "nome=\"\"\n",
    "level=0\n",
    "nivel=\"\"\n",
    "\n",
    "nome=str(input(\"Valente Heroi, diga-me seu nome! Para que a glória de seus feitos seja cantada pelos bardos!:\"))\n",
    "print(\"Seja bem-vindo ao reino de Aethelmere, Valente Caveleiro!\")\n",
    "print(\"\")\n",
    "level=int(input(\"Diga-me, Heroi, qual a sua quantidade de experiência em xp? É um novato em busca de glória, ou um veterano de mil batalhas?\"))\n",
    "\n",
    "if (level<=1000):\n",
    "    nivel=\"Ferro\"\n",
    "elif (level>=1001 and level<=2000):\n",
    "    nivel=\"Bronze\"\n",
    "elif (level>=2001 and level<=5000):\n",
    "    nivel=\"Prata\"\n",
    "elif (level>=5001 and level<=7000):\n",
    "    nivel=\"Ouro\"\n",
    "elif (level>=7001 and level<=8000):\n",
    "    nivel=\"Platina\"\n",
    "elif (level>=8001 and level<=9000):\n",
    "    nivel=\"Ascendente\"\n",
    "elif (level>=9001 and level<=10000):\n",
    "    nivel=\"Imortal\"\n",
    "elif (level>=10001):\n",
    "    nivel=\"Radiante\"\n",
    "else:\n",
    "    print(\"Sua inscrição não parece correta, nobre guerreiro! Verifique se declarou a informação corretamente, e tente novamente. A sorte esteja com você!\")\n",
    "\n",
    "print(f\"Um caminho se abre a diante, {nome}, o Heroi!\")\n",
    "print(\"\")\n",
    "print(f\"Com {level} quantidade de experiência, você se encontra no nível de {nivel}.\")\n",
    "print(\"\")\n",
    "print(\"A glória o espera, mas cuidado: os desafios são muitos!\")\n",
    "print(\"\")\n",
    "print(\"Que a sorte esteja com você, e que seus feitos sejam lembrados por todos!\")"
   ]
  }
 ],
 "metadata": {
  "kernelspec": {
   "display_name": "Python 3",
   "language": "python",
   "name": "python3"
  },
  "language_info": {
   "codemirror_mode": {
    "name": "ipython",
    "version": 3
   },
   "file_extension": ".py",
   "mimetype": "text/x-python",
   "name": "python",
   "nbconvert_exporter": "python",
   "pygments_lexer": "ipython3",
   "version": "3.11.8"
  }
 },
 "nbformat": 4,
 "nbformat_minor": 2
}
