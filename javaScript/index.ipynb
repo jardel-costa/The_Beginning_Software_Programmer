{
 "cells": [
  {
   "cell_type": "markdown",
   "metadata": {},
   "source": [
    "Permissões de usuário \n",
    "Criem mais duas variáveis: uma que guarde a senha de um usuário e outra que guarde se o usuário tem permissões de administrador ou não. Lembrem que um usuário deve poder mudar sua senha à vontade, mas a permissão de administrador é atribuída apenas no momento da criação do usuário e não pode ser alterada depois. \n",
    " \n",
    "Na sequência, criem duas novas estruturas condicionais. A primeira estrutura deve imprimir a mensagem “Por favor, insira sua nova senha” caso o  username e a senha estejam corretos, e imprimir “Username / senha incorretos” caso qualquer um dois esteja errado. \n",
    " \n",
    " A segunda estrutura condicional deve imprimir a mensagem “Você não pode acessar esta parte do sistema” caso o usuário não tenha permissões de administrador, e a mensagem “Bem-vindo(a) à área de administrador” caso tenha sim as permissões necessárias. \n",
    " \n",
    "Alterem os valores das variáveis e executem seu código novamente para testar todas as saídas possíveis de mensagens. "
   ]
  },
  {
   "cell_type": "code",
   "execution_count": null,
   "metadata": {
    "vscode": {
     "languageId": "javascript"
    }
   },
   "outputs": [],
   "source": [
    "const emailCorreto = 'jardel.costa@gmail.com'\n",
    "const idCorreto = \"qwerty\"\n",
    "const passCorreto = \n",
    "const permiCorreto = \n",
    "\n",
    "\n",
    "let emailUser = 'jardel.costa@gmail.com'\n",
    "let idUser = \"qwerty\"\n",
    "\n",
    "\n",
    "if (emailUser == emailCorreto && idUser == idCorreto) {\n",
    "console.log(\"Deseja mudar sua senha?\")\n",
    "} else {\n",
    "    console.log(\"Usuario sem autorização\")\n",
    "}"
   ]
  }
 ],
 "metadata": {
  "language_info": {
   "name": "python"
  }
 },
 "nbformat": 4,
 "nbformat_minor": 2
}
